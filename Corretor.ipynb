{
 "cells": [
  {
   "cell_type": "code",
   "execution_count": 377,
   "id": "b775f09d-7c4e-4bf3-83f0-396e943860d0",
   "metadata": {},
   "outputs": [],
   "source": [
    "# to open an archive:"
   ]
  },
  {
   "cell_type": "code",
   "execution_count": 378,
   "id": "69717af8-56b9-47ce-91dc-94ca6c3edff3",
   "metadata": {},
   "outputs": [],
   "source": [
    "with open('Data/artigos.txt', 'r') as f:\n",
    "    artigos = f.read()"
   ]
  },
  {
   "cell_type": "code",
   "execution_count": 379,
   "id": "e3f83c41-caf3-4ec5-ba59-f6ebe069db38",
   "metadata": {},
   "outputs": [
    {
     "name": "stdout",
     "output_type": "stream",
     "text": [
      "\n",
      "\n",
      "\n",
      "imagem \n",
      "\n",
      "Temos a seguinte classe que representa um usuário no nosso sistema:\n",
      "\n",
      "java\n",
      "\n",
      "Para salvar um novo usuário, várias validações são feitas, como por exemplo: Ver se o nome só contém letras, [**o CPF só números**] e ver se o usuário possui no mínimo 18 anos. Veja o método que faz essa validação:\n",
      "\n",
      "java \n",
      "\n",
      "Suponha agora que eu tenha outra classe, a classe `Produto`, que contém um atributo nome e eu quero fazer a mesma validação que fiz para o nome do usuário: Ver se só contém letras. E aí? Vou\n"
     ]
    }
   ],
   "source": [
    "print(artigos[:500])"
   ]
  },
  {
   "cell_type": "code",
   "execution_count": 380,
   "id": "0232329e-3a54-478f-8a69-f23bed0c1383",
   "metadata": {},
   "outputs": [],
   "source": [
    "# checando número de palavras no corpus textual "
   ]
  },
  {
   "cell_type": "code",
   "execution_count": 381,
   "id": "97e26bfd-1cb3-45b2-8b4e-ad35a24b9bb0",
   "metadata": {},
   "outputs": [
    {
     "data": {
      "text/plain": [
       "2605046"
      ]
     },
     "execution_count": 381,
     "metadata": {},
     "output_type": "execute_result"
    }
   ],
   "source": [
    "# usando o método len() obteremos o retorno do numero de caracteres e não de palavras:\n",
    "len(artigos)\n",
    " "
   ]
  },
  {
   "cell_type": "code",
   "execution_count": 382,
   "id": "822dc868-1b72-4d5c-8ee3-f67bf1d9f632",
   "metadata": {},
   "outputs": [
    {
     "name": "stdout",
     "output_type": "stream",
     "text": [
      "['Olá,', 'tudo', 'bem?']\n"
     ]
    }
   ],
   "source": [
    "# usando split()\n",
    "texto_exemplo = \"Olá, tudo bem?\"\n",
    "palavras_separadas = texto_exemplo.split()\n",
    "print(palavras_separadas)"
   ]
  },
  {
   "cell_type": "code",
   "execution_count": 383,
   "id": "fd8f78ef-ddd5-4764-a1f0-552f827ae313",
   "metadata": {},
   "outputs": [],
   "source": [
    "# o problema é que com isso separamos palavras, mas também coisas que não são palavras: ',' e '?', por exemplo "
   ]
  },
  {
   "cell_type": "code",
   "execution_count": 384,
   "id": "773f7aaf-9723-4d8d-8383-471d8c1e6a05",
   "metadata": {},
   "outputs": [
    {
     "data": {
      "text/plain": [
       "3"
      ]
     },
     "execution_count": 384,
     "metadata": {},
     "output_type": "execute_result"
    }
   ],
   "source": [
    "len(palavras_separadas)"
   ]
  },
  {
   "cell_type": "code",
   "execution_count": 385,
   "id": "037870a1-2e18-43e5-8e7a-460764e7b6ad",
   "metadata": {},
   "outputs": [
    {
     "name": "stdout",
     "output_type": "stream",
     "text": [
      "['Olá,', 'tudo', 'bem?']\n"
     ]
    }
   ],
   "source": [
    "# uma lista com palavras separadas que são chamadas de tokens:\n",
    "texto_exemplo = \"Olá, tudo bem?\"\n",
    "tokens = texto_exemplo.split()\n",
    "print(tokens)"
   ]
  },
  {
   "cell_type": "code",
   "execution_count": 386,
   "id": "7cbbdc26-56c8-4c1f-8894-b0bc52d88b37",
   "metadata": {},
   "outputs": [
    {
     "data": {
      "text/plain": [
       "3"
      ]
     },
     "execution_count": 386,
     "metadata": {},
     "output_type": "execute_result"
    }
   ],
   "source": [
    "len(tokens)"
   ]
  },
  {
   "cell_type": "code",
   "execution_count": 387,
   "id": "8570494d-4759-42eb-b7e1-0271b9ff3a4d",
   "metadata": {},
   "outputs": [],
   "source": [
    "import nltk #Nltk => Natural Languague Tool Kit é um conjunto de ferramentas que implementa diversos métodos\n",
    "# e algoritimos para análise textual"
   ]
  },
  {
   "cell_type": "code",
   "execution_count": 388,
   "id": "ee495f9f-030a-475d-a40d-be8094caac3c",
   "metadata": {},
   "outputs": [
    {
     "name": "stderr",
     "output_type": "stream",
     "text": [
      "[nltk_data] Downloading package punkt to\n",
      "[nltk_data]     /Users/victorfigueiredo/nltk_data...\n",
      "[nltk_data]   Package punkt is already up-to-date!\n"
     ]
    },
    {
     "data": {
      "text/plain": [
       "True"
      ]
     },
     "execution_count": 388,
     "metadata": {},
     "output_type": "execute_result"
    }
   ],
   "source": [
    "nltk.download('punkt') "
   ]
  },
  {
   "cell_type": "code",
   "execution_count": 389,
   "id": "c0238d5b-3a2a-43cc-ac7d-d801d37d2a01",
   "metadata": {},
   "outputs": [],
   "source": [
    "palavras_separadas = nltk.tokenize.word_tokenize(texto_exemplo)"
   ]
  },
  {
   "cell_type": "code",
   "execution_count": 390,
   "id": "46d66e66-adec-464d-ae9c-a449a94595c3",
   "metadata": {},
   "outputs": [
    {
     "name": "stdout",
     "output_type": "stream",
     "text": [
      "['Olá', ',', 'tudo', 'bem', '?']\n"
     ]
    }
   ],
   "source": [
    "print(palavras_separadas)"
   ]
  },
  {
   "cell_type": "code",
   "execution_count": 391,
   "id": "4d22279c-bbea-4544-a037-a9cde44479ba",
   "metadata": {},
   "outputs": [],
   "source": [
    "# temos cinco tokens, três palavras e duas pontuações, mas precisamos descobrir apenas a qualidade de vocábulos\n",
    "# no corpus. Para fazer a separação, vamos criar uma função:"
   ]
  },
  {
   "cell_type": "code",
   "execution_count": 392,
   "id": "307159e2-d92a-4ec1-83a0-a21a821aaa37",
   "metadata": {},
   "outputs": [],
   "source": [
    "def separa_palavras(lista_tokens):\n",
    "    return lista_palavras"
   ]
  },
  {
   "cell_type": "code",
   "execution_count": 393,
   "id": "7e0303de-229a-472a-a54d-fbb1590c98ab",
   "metadata": {},
   "outputs": [],
   "source": [
    "# para descobrirmos o que realmente é vocábulo usamos o método isalpha():\n",
    "\n",
    "def separa_palavras(lista_tokens):\n",
    "    lista_palavras =[]\n",
    "    for token in lista_tokens: #percorrendo cada token dentro da lista\n",
    "        if token.isalpha(): #verificando se é alphabetic ou não\n",
    "            lista_palavras.append(token) #adicionando à uma lista vazia\n",
    "    return lista_palavras # retornando a lista"
   ]
  },
  {
   "cell_type": "code",
   "execution_count": 394,
   "id": "ef27a4a4-7632-4b9c-9dba-6bad4c9882ed",
   "metadata": {},
   "outputs": [
    {
     "data": {
      "text/plain": [
       "['Olá', 'tudo', 'bem']"
      ]
     },
     "execution_count": 394,
     "metadata": {},
     "output_type": "execute_result"
    }
   ],
   "source": [
    "# verificação usando palavras_separadas:\n",
    "\n",
    "separa_palavras(palavras_separadas)"
   ]
  },
  {
   "cell_type": "code",
   "execution_count": 395,
   "id": "e8502cbf-e185-45e4-9080-f790a67c1690",
   "metadata": {},
   "outputs": [],
   "source": [
    "# agora já é possível contar quantas palavras temos no arquivo original 'artigos.txt'"
   ]
  },
  {
   "cell_type": "code",
   "execution_count": 396,
   "id": "edd9cc9b-2b53-42be-8c24-f560946e2285",
   "metadata": {},
   "outputs": [],
   "source": [
    "# Primeiro criamos uma lista com os tokens:"
   ]
  },
  {
   "cell_type": "code",
   "execution_count": 397,
   "id": "c7696a39-eb36-4045-a135-629f9407e213",
   "metadata": {},
   "outputs": [],
   "source": [
    "lista_tokens = nltk.tokenize.word_tokenize(artigos)"
   ]
  },
  {
   "cell_type": "code",
   "execution_count": 398,
   "id": "2afad3e2-bb94-4797-80ec-40a1cc60cde6",
   "metadata": {},
   "outputs": [],
   "source": [
    "# Usamos a função criada para separar tudo que é alphabetic de outros tipos:"
   ]
  },
  {
   "cell_type": "code",
   "execution_count": 399,
   "id": "623af447-fa5e-48f9-a312-3765e821bc86",
   "metadata": {},
   "outputs": [],
   "source": [
    "lista_palavras = separa_palavras(lista_tokens)"
   ]
  },
  {
   "cell_type": "code",
   "execution_count": null,
   "id": "f12f1550-3a9d-4bb5-b76f-9f33c334157c",
   "metadata": {},
   "outputs": [],
   "source": []
  },
  {
   "cell_type": "code",
   "execution_count": 400,
   "id": "2572f642-28c5-4aaa-9a06-cb51989cfe83",
   "metadata": {},
   "outputs": [],
   "source": [
    "# o número de palavras no corpus textual é:"
   ]
  },
  {
   "cell_type": "code",
   "execution_count": 401,
   "id": "b01babfc-c69e-40f2-89ca-d4891b115726",
   "metadata": {},
   "outputs": [
    {
     "name": "stdout",
     "output_type": "stream",
     "text": [
      "O número de palavras é 403031\n"
     ]
    }
   ],
   "source": [
    "print(f'O número de palavras é {len(lista_palavras)}')"
   ]
  },
  {
   "cell_type": "code",
   "execution_count": 402,
   "id": "29ec9860-845e-41d6-ae8f-32b200e0cc93",
   "metadata": {},
   "outputs": [],
   "source": [
    "# muito provavelmente nossas amostras terão palavras iguais escritas de maneira diferente (Temos e temos, por exemplo), \n",
    "# por isso antes de mais nada é preciso normalizar a lista de palavras "
   ]
  },
  {
   "cell_type": "code",
   "execution_count": 403,
   "id": "fd33ccbb-936f-4170-9ad4-c761d85adb0c",
   "metadata": {},
   "outputs": [],
   "source": [
    "def normalizacao(lista_palavras):\n",
    "    lista_normalizada = [] #nova lista para armazenar palavras normalizadas\n",
    "    for palavra in lista_palavras: #verificar cada item da lista\n",
    "        lista_normalizada.append(palavra.lower()) #transformar a palavra em letras minúsculas\n",
    "    return lista_normalizada # nova lista modificada"
   ]
  },
  {
   "cell_type": "code",
   "execution_count": 404,
   "id": "8f73604e-5576-463b-8839-4249e3889716",
   "metadata": {},
   "outputs": [],
   "source": [
    "lista_normalizada = normalizacao(lista_palavras)"
   ]
  },
  {
   "cell_type": "code",
   "execution_count": 405,
   "id": "6466894f-8285-4759-953b-232f16344af4",
   "metadata": {},
   "outputs": [],
   "source": [
    "# agora que todas as palavras estão escritas com letra minúscula, podemos prosseguir com a limpeza dos dados"
   ]
  },
  {
   "cell_type": "markdown",
   "id": "c48b087b-4cfe-4534-b42c-3dfda5c4d4cc",
   "metadata": {},
   "source": [
    "## Removendo palavras repetidas"
   ]
  },
  {
   "cell_type": "code",
   "execution_count": 406,
   "id": "0a8ea712-6de9-497c-98ff-15cc14395db4",
   "metadata": {},
   "outputs": [],
   "source": [
    "# para remover palavras repetidas podemos usa o método set()"
   ]
  },
  {
   "cell_type": "code",
   "execution_count": 407,
   "id": "0cbdd3ed-eea4-4d1c-967b-a4e23885b77d",
   "metadata": {},
   "outputs": [],
   "source": [
    "lista_normalizada = set(lista_normalizada)"
   ]
  },
  {
   "cell_type": "code",
   "execution_count": 408,
   "id": "df834e4d-7955-4548-ae97-45b6e559340d",
   "metadata": {},
   "outputs": [
    {
     "name": "stdout",
     "output_type": "stream",
     "text": [
      "O número de palavras únicas é: 18464\n"
     ]
    }
   ],
   "source": [
    "print(f'O número de palavras únicas é: {len(lista_normalizada)}')"
   ]
  },
  {
   "cell_type": "markdown",
   "id": "1d69ea8d-487b-4a2e-a075-b227eb5ba52a",
   "metadata": {},
   "source": [
    "# Criando funções para verificação de palavras: "
   ]
  },
  {
   "cell_type": "code",
   "execution_count": null,
   "id": "050869fc-6108-4ace-aabb-1e831396b1b2",
   "metadata": {},
   "outputs": [],
   "source": []
  },
  {
   "cell_type": "code",
   "execution_count": null,
   "id": "75a41748-b9ca-40b3-bb5d-4cce7402c8e7",
   "metadata": {},
   "outputs": [],
   "source": []
  },
  {
   "cell_type": "markdown",
   "id": "1cf4a66f-5f0f-4223-a51e-25e8c0dece4a",
   "metadata": {},
   "source": [
    "# Criando função de inserção:"
   ]
  },
  {
   "cell_type": "code",
   "execution_count": 409,
   "id": "5d9aa39a-d64c-466c-91b9-41dd44c42970",
   "metadata": {},
   "outputs": [],
   "source": [
    "def insere_letras(fatias):  #a função recebe as fatias da função anterior como parâmetro\n",
    "    novas_palavras=[] #nova lista para armazenar as palavras geradas \n",
    "    letras = 'abcdefghijklmnopqrstuvwxyzàáâãèéêìíîòóôõùúûç' #todas as letras e possibilidades de pontuação alfabeto pt-br\n",
    "    for E, D in fatias: # para cada uma das fatias, dividias entre Esquerda e Direita\n",
    "        for letra in letras: # para cada letra possível\n",
    "            novas_palavras.append(E + letra + D) #palavra gerada\n",
    "    return novas_palavras #palavra gerada é armazenada na nova lista"
   ]
  },
  {
   "cell_type": "markdown",
   "id": "a3e6aee3-68ee-4277-8e12-fbfa3430ed9e",
   "metadata": {},
   "source": [
    "# Criando funções para verificação de palavras: \n"
   ]
  },
  {
   "cell_type": "code",
   "execution_count": 410,
   "id": "cc3a8dc5-ccaa-4f03-9fc2-e3a1d27c0bfb",
   "metadata": {},
   "outputs": [],
   "source": [
    "palavra_exemplo = 'msmo'\n",
    "\n",
    "def gerador_palavras(palavra): #a função recebe uma palavra como parâmetro\n",
    "    fatias = [] #lista para receber as fatias criadas\n",
    "    for i in range(len(palavra)+1): #fatias variando por posição de acordo com o tamanho da palavra\n",
    "        fatias.append((palavra[:i], palavra[i:])) #fatias criadas sendo adicionadas a nova lista\n",
    "    palavras_geradas = insere_letras(fatias)\n",
    "    return palavras_geradas\n"
   ]
  },
  {
   "cell_type": "markdown",
   "id": "5b66de28-e4da-44bb-b0d7-46ffeec86d06",
   "metadata": {},
   "source": [
    "# Testando funções para palavra_exemplo: "
   ]
  },
  {
   "cell_type": "code",
   "execution_count": 411,
   "id": "a7428843-9650-45bb-824e-b51d5d6bb8b9",
   "metadata": {},
   "outputs": [],
   "source": [
    "palavras_geradas = gerador_palavras(palavra_exemplo)"
   ]
  },
  {
   "cell_type": "code",
   "execution_count": 412,
   "id": "c9e0d43b-b269-4f35-aac8-7e17fe0b318e",
   "metadata": {},
   "outputs": [
    {
     "name": "stdout",
     "output_type": "stream",
     "text": [
      "['amsmo', 'bmsmo', 'cmsmo', 'dmsmo', 'emsmo', 'fmsmo', 'gmsmo', 'hmsmo', 'imsmo', 'jmsmo', 'kmsmo', 'lmsmo', 'mmsmo', 'nmsmo', 'omsmo', 'pmsmo', 'qmsmo', 'rmsmo', 'smsmo', 'tmsmo', 'umsmo', 'vmsmo', 'wmsmo', 'xmsmo', 'ymsmo', 'zmsmo', 'àmsmo', 'ámsmo', 'âmsmo', 'ãmsmo', 'èmsmo', 'émsmo', 'êmsmo', 'ìmsmo', 'ímsmo', 'îmsmo', 'òmsmo', 'ómsmo', 'ômsmo', 'õmsmo', 'ùmsmo', 'úmsmo', 'ûmsmo', 'çmsmo', 'masmo', 'mbsmo', 'mcsmo', 'mdsmo', 'mesmo', 'mfsmo', 'mgsmo', 'mhsmo', 'mismo', 'mjsmo', 'mksmo', 'mlsmo', 'mmsmo', 'mnsmo', 'mosmo', 'mpsmo', 'mqsmo', 'mrsmo', 'mssmo', 'mtsmo', 'musmo', 'mvsmo', 'mwsmo', 'mxsmo', 'mysmo', 'mzsmo', 'màsmo', 'másmo', 'mâsmo', 'mãsmo', 'mèsmo', 'mésmo', 'mêsmo', 'mìsmo', 'mísmo', 'mîsmo', 'mòsmo', 'mósmo', 'môsmo', 'mõsmo', 'mùsmo', 'músmo', 'mûsmo', 'mçsmo', 'msamo', 'msbmo', 'mscmo', 'msdmo', 'msemo', 'msfmo', 'msgmo', 'mshmo', 'msimo', 'msjmo', 'mskmo', 'mslmo', 'msmmo', 'msnmo', 'msomo', 'mspmo', 'msqmo', 'msrmo', 'mssmo', 'mstmo', 'msumo', 'msvmo', 'mswmo', 'msxmo', 'msymo', 'mszmo', 'msàmo', 'msámo', 'msâmo', 'msãmo', 'msèmo', 'msémo', 'msêmo', 'msìmo', 'msímo', 'msîmo', 'msòmo', 'msómo', 'msômo', 'msõmo', 'msùmo', 'msúmo', 'msûmo', 'msçmo', 'msmao', 'msmbo', 'msmco', 'msmdo', 'msmeo', 'msmfo', 'msmgo', 'msmho', 'msmio', 'msmjo', 'msmko', 'msmlo', 'msmmo', 'msmno', 'msmoo', 'msmpo', 'msmqo', 'msmro', 'msmso', 'msmto', 'msmuo', 'msmvo', 'msmwo', 'msmxo', 'msmyo', 'msmzo', 'msmào', 'msmáo', 'msmâo', 'msmão', 'msmèo', 'msméo', 'msmêo', 'msmìo', 'msmío', 'msmîo', 'msmòo', 'msmóo', 'msmôo', 'msmõo', 'msmùo', 'msmúo', 'msmûo', 'msmço', 'msmoa', 'msmob', 'msmoc', 'msmod', 'msmoe', 'msmof', 'msmog', 'msmoh', 'msmoi', 'msmoj', 'msmok', 'msmol', 'msmom', 'msmon', 'msmoo', 'msmop', 'msmoq', 'msmor', 'msmos', 'msmot', 'msmou', 'msmov', 'msmow', 'msmox', 'msmoy', 'msmoz', 'msmoà', 'msmoá', 'msmoâ', 'msmoã', 'msmoè', 'msmoé', 'msmoê', 'msmoì', 'msmoí', 'msmoî', 'msmoò', 'msmoó', 'msmoô', 'msmoõ', 'msmoù', 'msmoú', 'msmoû', 'msmoç']\n"
     ]
    }
   ],
   "source": [
    "print(palavras_geradas)"
   ]
  },
  {
   "cell_type": "markdown",
   "id": "1cee9e85-3653-4d19-8b69-9f93db627e31",
   "metadata": {},
   "source": [
    " # Criando uma função para definir se a qual a palavra correta: "
   ]
  },
  {
   "cell_type": "code",
   "execution_count": 413,
   "id": "b111e7a4-1acd-4d49-b9ef-cffb86bec080",
   "metadata": {},
   "outputs": [],
   "source": [
    "def corretor(palavra): # o corretor recebe uma palavra como parâmetro\n",
    "    palavras_geradas = gerador_palavras(palavra)  # a lista palavras_geradas recebe a lista do gerador_palavras para a palavra parâmetro\n",
    "    palavra_correta = max(palavras_geradas, key = probabilidade) # a função max() define a palavra com maior probabilidade de ser a certa\n",
    "    return palavra_correta # retorna a palavra correta (maior probabilidade)"
   ]
  },
  {
   "cell_type": "code",
   "execution_count": 414,
   "id": "e018a287-d6e3-4d49-8a89-69a406091588",
   "metadata": {},
   "outputs": [],
   "source": [
    "# é preciso primeiro definir uma função para o key = probabilidade, que ainda não existe"
   ]
  },
  {
   "cell_type": "code",
   "execution_count": 415,
   "id": "e328b32e-e730-47e4-87fc-a2531d17209f",
   "metadata": {},
   "outputs": [],
   "source": [
    "# probabilidade = sum(palavra) / sum(total de palavras), para isso usamos uma função do nltk"
   ]
  },
  {
   "cell_type": "code",
   "execution_count": 416,
   "id": "e8f80318-1bfc-472d-a34e-7cbf8ec4b31c",
   "metadata": {},
   "outputs": [],
   "source": [
    "frequencia = nltk.FreqDist() # método para calcula frequencia de distribuição das palavras "
   ]
  },
  {
   "cell_type": "markdown",
   "id": "797d30e2-0c53-44cd-b889-e6c5784e4966",
   "metadata": {},
   "source": [
    "### calculando frequencia baseada na lista_normalizada: "
   ]
  },
  {
   "cell_type": "code",
   "execution_count": 417,
   "id": "b8f10b41-327a-40b9-9e77-05b167cdb0af",
   "metadata": {},
   "outputs": [
    {
     "data": {
      "text/plain": [
       "[('quão', 1),\n",
       " ('chapecoense', 1),\n",
       " ('pré', 1),\n",
       " ('deterioração', 1),\n",
       " ('carente', 1),\n",
       " ('mínimos', 1),\n",
       " ('sintonia', 1),\n",
       " ('zoou', 1),\n",
       " ('atuará', 1),\n",
       " ('vocabulário', 1)]"
      ]
     },
     "execution_count": 417,
     "metadata": {},
     "output_type": "execute_result"
    }
   ],
   "source": [
    "frequencia = nltk.FreqDist(lista_normalizada)\n",
    "frequencia.most_common(10)"
   ]
  },
  {
   "cell_type": "code",
   "execution_count": 418,
   "id": "1cee695d-0e7f-4464-8ab0-3f7593d12868",
   "metadata": {},
   "outputs": [
    {
     "data": {
      "text/plain": [
       "1"
      ]
     },
     "execution_count": 418,
     "metadata": {},
     "output_type": "execute_result"
    }
   ],
   "source": [
    "# para a palavra exemplo (lógica):\n",
    "frequencia['lógica']"
   ]
  },
  {
   "cell_type": "markdown",
   "id": "d66d6809-626b-4bb8-9773-a7ee02cd7bbb",
   "metadata": {},
   "source": [
    "### criando definição para função probabilidade: "
   ]
  },
  {
   "cell_type": "code",
   "execution_count": 419,
   "id": "b88b84cd-f4ee-4e94-8e48-613d336b0fb0",
   "metadata": {},
   "outputs": [],
   "source": [
    "total_palavras = len(lista_normalizada)"
   ]
  },
  {
   "cell_type": "code",
   "execution_count": 420,
   "id": "b6b687c6-53f8-434a-b926-9d4f254fd952",
   "metadata": {},
   "outputs": [],
   "source": [
    "def probabilidade (palavra_gerada):\n",
    "    return frequencia[palavra_gerada] / total_palavras"
   ]
  },
  {
   "cell_type": "markdown",
   "id": "c6be679b-4155-4395-ad15-01c391ca094c",
   "metadata": {},
   "source": [
    "### testando função: "
   ]
  },
  {
   "cell_type": "code",
   "execution_count": 421,
   "id": "98afe653-b24c-46ea-89b3-f425c517a085",
   "metadata": {},
   "outputs": [
    {
     "data": {
      "text/plain": [
       "5.4159445407279026e-05"
      ]
     },
     "execution_count": 421,
     "metadata": {},
     "output_type": "execute_result"
    }
   ],
   "source": [
    "probabilidade('lógica')"
   ]
  },
  {
   "cell_type": "code",
   "execution_count": 422,
   "id": "fec9fa96-c7f4-455c-9b73-a1e58f5d8bb1",
   "metadata": {},
   "outputs": [
    {
     "data": {
      "text/plain": [
       "0.0"
      ]
     },
     "execution_count": 422,
     "metadata": {},
     "output_type": "execute_result"
    }
   ],
   "source": [
    "probabilidade('lágica')"
   ]
  },
  {
   "cell_type": "code",
   "execution_count": 423,
   "id": "ef6f65da-c837-4a6f-aa49-b25f3b0881e5",
   "metadata": {},
   "outputs": [
    {
     "data": {
      "text/plain": [
       "0.0"
      ]
     },
     "execution_count": 423,
     "metadata": {},
     "output_type": "execute_result"
    }
   ],
   "source": [
    "probabilidade('lgica') "
   ]
  },
  {
   "cell_type": "code",
   "execution_count": 424,
   "id": "3cc5b66a-fe1e-4b42-a540-b096b22e3d97",
   "metadata": {},
   "outputs": [
    {
     "data": {
      "text/plain": [
       "0.0"
      ]
     },
     "execution_count": 424,
     "metadata": {},
     "output_type": "execute_result"
    }
   ],
   "source": [
    "probabilidade('logica') "
   ]
  },
  {
   "cell_type": "markdown",
   "id": "0e3e9655-b36a-45e0-b9cd-ae35e178c14b",
   "metadata": {},
   "source": [
    "### testando função para palavra_exemplo: "
   ]
  },
  {
   "cell_type": "code",
   "execution_count": 425,
   "id": "cd78c957-0b9a-490b-b01d-4b56ba7f3680",
   "metadata": {},
   "outputs": [
    {
     "data": {
      "text/plain": [
       "'mesmo'"
      ]
     },
     "execution_count": 425,
     "metadata": {},
     "output_type": "execute_result"
    }
   ],
   "source": [
    "corretor(palavra_exemplo)"
   ]
  },
  {
   "cell_type": "markdown",
   "id": "4c7f1864-fe0d-4350-bdb8-2a075559fe92",
   "metadata": {},
   "source": [
    "## função completa: "
   ]
  },
  {
   "cell_type": "code",
   "execution_count": 426,
   "id": "8857b92b-b91a-4f2d-8869-2ea009841f5f",
   "metadata": {},
   "outputs": [],
   "source": [
    "def probabilidade (palavra_gerada):\n",
    "    return frequencia[palavra_gerada] / total_palavras\n",
    "\n",
    "def corretor(palavra): # o corretor recebe uma palavra como parâmetro\n",
    "    palavras_geradas = gerador_palavras(palavra)  # a lista palavras_geradas recebe a lista do gerador_palavras para a palavra parâmetro\n",
    "    palavra_correta = max(palavras_geradas, key = probabilidade) # a função max() define a palavra com maior probabilidade de ser a certa\n",
    "    return (f'Você quis dizer, {palavra_correta}?') # retorna a palavra correta (maior probabilidade)"
   ]
  },
  {
   "cell_type": "markdown",
   "id": "fb6e6a17-3946-483e-bcd4-234d7e60a221",
   "metadata": {},
   "source": [
    "# Avaliando a qualidade / taxa de acerto do corretor"
   ]
  },
  {
   "cell_type": "code",
   "execution_count": 427,
   "id": "265186ab-c962-47a6-b8cc-e2a40d81ab6c",
   "metadata": {},
   "outputs": [],
   "source": [
    "# para criar uma maneira de validar o corretor, primeiro precisamos criar um parâmatro que nos servira de métrica:"
   ]
  },
  {
   "cell_type": "code",
   "execution_count": 428,
   "id": "8a015120-56a6-4237-9772-125f32c20fe4",
   "metadata": {},
   "outputs": [],
   "source": [
    "def cria_dados_teste(nome_arquivo): #função que recebe uma lista de métricas como parâmetro\n",
    "    lista_palavras_teste = [] #nova lista para armazenar resultados\n",
    "    f = open(nome_arquivo, 'r') #função que irá abrir o arquivo e lê-lo linha por linha\n",
    "    for linha in f:       #para cada linha do arquivo:\n",
    "        correta, incorreta = linha.split() #irá separa em duas colunas, correta de incorreta\n",
    "        lista_palavras_teste.append((correta, incorreta)) #nova lista armazenada com as palavras separadas por categoria\n",
    "    f.close() #comando para fechar o arquivo que foi aberto para leitura\n",
    "    return lista_palavras_teste #retorna lista nova com os valores preenchidos "
   ]
  },
  {
   "cell_type": "markdown",
   "id": "8a596bbf-0ba0-4f70-a75d-cea8d86b3efc",
   "metadata": {},
   "source": [
    "### utilizando a função de validação: "
   ]
  },
  {
   "cell_type": "code",
   "execution_count": 462,
   "id": "0b8dd63d-45f1-4159-96f7-d1997667e890",
   "metadata": {},
   "outputs": [],
   "source": [
    "lista_teste = cria_dados_teste('Data/palavras.txt')"
   ]
  },
  {
   "cell_type": "code",
   "execution_count": 463,
   "id": "3fc6d45b-4074-47c5-bbe0-61014a9c5bff",
   "metadata": {},
   "outputs": [
    {
     "name": "stdout",
     "output_type": "stream",
     "text": [
      "[('esse', 'esje'), ('já', 'jrá'), ('nosso', 'nossov'), ('são', 'sãêo'), ('dos', 'dosa')]\n"
     ]
    }
   ],
   "source": [
    "print(lista_teste[1:6])"
   ]
  },
  {
   "cell_type": "markdown",
   "id": "e1541079-be24-4214-a871-6fde11401bd4",
   "metadata": {},
   "source": [
    "### criando função avaliadora: "
   ]
  },
  {
   "cell_type": "code",
   "execution_count": 431,
   "id": "8ff88c40-c8b1-4c02-9c82-b8a8ff2f40d1",
   "metadata": {},
   "outputs": [],
   "source": [
    "def avaliador(testes):    # método recebe uma lista como parâmetro\n",
    "    numero_palavras = len(testes)   #numero total de palavras calculado pela funcão len()\n",
    "    certo = 0 # contador de palavras corretas\n",
    "    for correta, errada in testes:   # para a lista de palavras corretas e incorretas informadas\n",
    "        palavra_corrigida = corretor(errada) # a palavra errada passa pela função corretor que retorna a palavra corrigida\n",
    "        if palavra_corrigida == correta: #se a palavra corrigida for igual a palavra correta\n",
    "            certo += 1 # soma um ao certo\n",
    "    taxa_acerto = round(certo*100 / numero_palavras,2)\n",
    "    # taxa de acerto calcula pelo numero de palavras corretas dividido pelo numero total\n",
    "    print(f'A taxa de acerto é de: {taxa_acerto}% para {numero_palavras} palavras')\n",
    "        "
   ]
  },
  {
   "cell_type": "markdown",
   "id": "23d9f917-b2a6-4185-9c8a-de21815b4ca6",
   "metadata": {},
   "source": [
    "### avaliando a lista_teste:"
   ]
  },
  {
   "cell_type": "code",
   "execution_count": 432,
   "id": "f59a16c0-6a01-4b87-829f-c1b2545209de",
   "metadata": {},
   "outputs": [
    {
     "name": "stdout",
     "output_type": "stream",
     "text": [
      "A taxa de acerto é de: 0.0% para 186 palavras\n"
     ]
    }
   ],
   "source": [
    "avaliador(lista_teste)"
   ]
  },
  {
   "cell_type": "markdown",
   "id": "c24975a0-aab0-4b55-a9c4-b98fbbaed686",
   "metadata": {},
   "source": [
    "#### a taxa de acerto é baixa pois no momento estamos corrigindo apenas um tipo de problema, a falta de letra, \n",
    "#### para os demais tipos de erros ainda não implementamos nenhuma correção\n",
    "#### por isso é necessario incrementar o código"
   ]
  },
  {
   "cell_type": "markdown",
   "id": "7eadefb1-ff8a-4b88-91b5-58589c55b2da",
   "metadata": {},
   "source": [
    "# Incrementando o Corretor"
   ]
  },
  {
   "cell_type": "markdown",
   "id": "498c0ec1-714d-4701-8995-07b9df99fa44",
   "metadata": {},
   "source": [
    "## corrigindo excesso de caracteres"
   ]
  },
  {
   "cell_type": "markdown",
   "id": "0797806b-c476-4db6-830e-48d668ac2421",
   "metadata": {},
   "source": [
    "### Criando função para corrrigir excesso de caracteres: "
   ]
  },
  {
   "cell_type": "code",
   "execution_count": 433,
   "id": "da27aa77-14f4-4f54-ba02-b22fa3e38dfb",
   "metadata": {},
   "outputs": [],
   "source": [
    "def deletando_caracteres(fatias):          # função recebe fatias das palavras como parâmetros\n",
    "    novas_palavras = []      # uma nova lista para armazenar os novos valores\n",
    "    for E, D in fatias:     # para cada fatia dentro da lista fatias uma nova verificação\n",
    "        novas_palavras.append(E + D[1:]) # a cada vez que o número for incrementado [1:] a próxima letra é deletada\n",
    "    return novas_palavras      # retorna nova lista com todas as opções depois de deletadas"
   ]
  },
  {
   "cell_type": "markdown",
   "id": "60ced0c5-ff8a-4c74-86fa-1dbdee800c43",
   "metadata": {},
   "source": [
    "### Antes de utilizar a função é preciso atualizar o gerador_palavras() pois ele testa apenas para a falta de letras"
   ]
  },
  {
   "cell_type": "code",
   "execution_count": 434,
   "id": "178ec0e8-23b9-4758-8f62-6217b3610733",
   "metadata": {},
   "outputs": [],
   "source": [
    "## palavra_exemplo = 'msmo'\n",
    "\n",
    "## def gerador_palavras(palavra): #a função recebe uma palavra como parâmetro\n",
    "##    fatias = [] #lista para receber as fatias criadas\n",
    "##    for i in range(len(palavra)+1): #fatias variando por posição de acordo com o tamanho da palavra\n",
    "##        fatias.append((palavra[:i], palavra[i:])) #fatias criadas sendo adicionadas a nova lista\n",
    "##    palavras_geradas = insere_letras(fatias)\n",
    "##    return palavras_geradas"
   ]
  },
  {
   "cell_type": "markdown",
   "id": "ede3e6cf-53f2-4380-b5e8-23c8c2110a3d",
   "metadata": {},
   "source": [
    "#### Para isso vamos incrementar a função deletando_caracteres() que retorna uma lista (listas podem ser concatenadas com outras\n",
    "#### listas) para gerarmos um retorno único verificando as duas funções:"
   ]
  },
  {
   "cell_type": "code",
   "execution_count": 435,
   "id": "6e162d22-3c95-4808-ba63-a7a3f34f96ef",
   "metadata": {},
   "outputs": [],
   "source": [
    "def gerador_palavras(palavra): #a função recebe uma palavra como parâmetro\n",
    "    fatias = [] #lista para receber as fatias criadas\n",
    "    for i in range(len(palavra)+1): #fatias variando por posição de acordo com o tamanho da palavra\n",
    "        fatias.append((palavra[:i], palavra[i:])) #fatias criadas sendo adicionadas a nova lista\n",
    "    palavras_geradas = insere_letras(fatias)\n",
    "    palavras_geradas += deletando_caracteres(fatias)\n",
    "    return palavras_geradas"
   ]
  },
  {
   "cell_type": "markdown",
   "id": "3cc333ae-8973-4eba-aeab-c7271784ac2d",
   "metadata": {},
   "source": [
    "## Testando função modificada: "
   ]
  },
  {
   "cell_type": "code",
   "execution_count": 436,
   "id": "420dc1eb-3e5b-40d9-8836-95961c6e3059",
   "metadata": {},
   "outputs": [],
   "source": [
    "palavra_exemplo = 'lóigica'"
   ]
  },
  {
   "cell_type": "code",
   "execution_count": 437,
   "id": "6e9db46d-5bc9-43aa-8dc1-84f2c515831b",
   "metadata": {},
   "outputs": [],
   "source": [
    "palavras_geradas = gerador_palavras(palavra_exemplo)"
   ]
  },
  {
   "cell_type": "code",
   "execution_count": 438,
   "id": "ea692790-0e61-4755-989e-7e79cd7f0989",
   "metadata": {},
   "outputs": [
    {
     "name": "stdout",
     "output_type": "stream",
     "text": [
      "['alóigica', 'blóigica', 'clóigica', 'dlóigica', 'elóigica', 'flóigica', 'glóigica', 'hlóigica', 'ilóigica', 'jlóigica', 'klóigica', 'llóigica', 'mlóigica', 'nlóigica', 'olóigica', 'plóigica', 'qlóigica', 'rlóigica', 'slóigica', 'tlóigica', 'ulóigica', 'vlóigica', 'wlóigica', 'xlóigica', 'ylóigica', 'zlóigica', 'àlóigica', 'álóigica', 'âlóigica', 'ãlóigica', 'èlóigica', 'élóigica', 'êlóigica', 'ìlóigica', 'ílóigica', 'îlóigica', 'òlóigica', 'ólóigica', 'ôlóigica', 'õlóigica', 'ùlóigica', 'úlóigica', 'ûlóigica', 'çlóigica', 'laóigica', 'lbóigica', 'lcóigica', 'ldóigica', 'leóigica', 'lfóigica', 'lgóigica', 'lhóigica', 'lióigica', 'ljóigica', 'lkóigica', 'llóigica', 'lmóigica', 'lnóigica', 'loóigica', 'lpóigica', 'lqóigica', 'lróigica', 'lsóigica', 'ltóigica', 'luóigica', 'lvóigica', 'lwóigica', 'lxóigica', 'lyóigica', 'lzóigica', 'làóigica', 'láóigica', 'lâóigica', 'lãóigica', 'lèóigica', 'léóigica', 'lêóigica', 'lìóigica', 'líóigica', 'lîóigica', 'lòóigica', 'lóóigica', 'lôóigica', 'lõóigica', 'lùóigica', 'lúóigica', 'lûóigica', 'lçóigica', 'lóaigica', 'lóbigica', 'lócigica', 'lódigica', 'lóeigica', 'lófigica', 'lógigica', 'lóhigica', 'lóiigica', 'lójigica', 'lókigica', 'lóligica', 'lómigica', 'lónigica', 'lóoigica', 'lópigica', 'lóqigica', 'lórigica', 'lósigica', 'lótigica', 'lóuigica', 'lóvigica', 'lówigica', 'lóxigica', 'lóyigica', 'lózigica', 'lóàigica', 'lóáigica', 'lóâigica', 'lóãigica', 'lóèigica', 'lóéigica', 'lóêigica', 'lóìigica', 'lóíigica', 'lóîigica', 'lóòigica', 'lóóigica', 'lóôigica', 'lóõigica', 'lóùigica', 'lóúigica', 'lóûigica', 'lóçigica', 'lóiagica', 'lóibgica', 'lóicgica', 'lóidgica', 'lóiegica', 'lóifgica', 'lóiggica', 'lóihgica', 'lóiigica', 'lóijgica', 'lóikgica', 'lóilgica', 'lóimgica', 'lóingica', 'lóiogica', 'lóipgica', 'lóiqgica', 'lóirgica', 'lóisgica', 'lóitgica', 'lóiugica', 'lóivgica', 'lóiwgica', 'lóixgica', 'lóiygica', 'lóizgica', 'lóiàgica', 'lóiágica', 'lóiâgica', 'lóiãgica', 'lóiègica', 'lóiégica', 'lóiêgica', 'lóiìgica', 'lóiígica', 'lóiîgica', 'lóiògica', 'lóiógica', 'lóiôgica', 'lóiõgica', 'lóiùgica', 'lóiúgica', 'lóiûgica', 'lóiçgica', 'lóigaica', 'lóigbica', 'lóigcica', 'lóigdica', 'lóigeica', 'lóigfica', 'lóiggica', 'lóighica', 'lóigiica', 'lóigjica', 'lóigkica', 'lóiglica', 'lóigmica', 'lóignica', 'lóigoica', 'lóigpica', 'lóigqica', 'lóigrica', 'lóigsica', 'lóigtica', 'lóiguica', 'lóigvica', 'lóigwica', 'lóigxica', 'lóigyica', 'lóigzica', 'lóigàica', 'lóigáica', 'lóigâica', 'lóigãica', 'lóigèica', 'lóigéica', 'lóigêica', 'lóigìica', 'lóigíica', 'lóigîica', 'lóigòica', 'lóigóica', 'lóigôica', 'lóigõica', 'lóigùica', 'lóigúica', 'lóigûica', 'lóigçica', 'lóigiaca', 'lóigibca', 'lóigicca', 'lóigidca', 'lóigieca', 'lóigifca', 'lóigigca', 'lóigihca', 'lóigiica', 'lóigijca', 'lóigikca', 'lóigilca', 'lóigimca', 'lóiginca', 'lóigioca', 'lóigipca', 'lóigiqca', 'lóigirca', 'lóigisca', 'lóigitca', 'lóigiuca', 'lóigivca', 'lóigiwca', 'lóigixca', 'lóigiyca', 'lóigizca', 'lóigiàca', 'lóigiáca', 'lóigiâca', 'lóigiãca', 'lóigièca', 'lóigiéca', 'lóigiêca', 'lóigiìca', 'lóigiíca', 'lóigiîca', 'lóigiòca', 'lóigióca', 'lóigiôca', 'lóigiõca', 'lóigiùca', 'lóigiúca', 'lóigiûca', 'lóigiçca', 'lóigicaa', 'lóigicba', 'lóigicca', 'lóigicda', 'lóigicea', 'lóigicfa', 'lóigicga', 'lóigicha', 'lóigicia', 'lóigicja', 'lóigicka', 'lóigicla', 'lóigicma', 'lóigicna', 'lóigicoa', 'lóigicpa', 'lóigicqa', 'lóigicra', 'lóigicsa', 'lóigicta', 'lóigicua', 'lóigicva', 'lóigicwa', 'lóigicxa', 'lóigicya', 'lóigicza', 'lóigicàa', 'lóigicáa', 'lóigicâa', 'lóigicãa', 'lóigicèa', 'lóigicéa', 'lóigicêa', 'lóigicìa', 'lóigicía', 'lóigicîa', 'lóigicòa', 'lóigicóa', 'lóigicôa', 'lóigicõa', 'lóigicùa', 'lóigicúa', 'lóigicûa', 'lóigicça', 'lóigicaa', 'lóigicab', 'lóigicac', 'lóigicad', 'lóigicae', 'lóigicaf', 'lóigicag', 'lóigicah', 'lóigicai', 'lóigicaj', 'lóigicak', 'lóigical', 'lóigicam', 'lóigican', 'lóigicao', 'lóigicap', 'lóigicaq', 'lóigicar', 'lóigicas', 'lóigicat', 'lóigicau', 'lóigicav', 'lóigicaw', 'lóigicax', 'lóigicay', 'lóigicaz', 'lóigicaà', 'lóigicaá', 'lóigicaâ', 'lóigicaã', 'lóigicaè', 'lóigicaé', 'lóigicaê', 'lóigicaì', 'lóigicaí', 'lóigicaî', 'lóigicaò', 'lóigicaó', 'lóigicaô', 'lóigicaõ', 'lóigicaù', 'lóigicaú', 'lóigicaû', 'lóigicaç', 'óigica', 'ligica', 'lógica', 'lóiica', 'lóigca', 'lóigia', 'lóigic', 'lóigica']\n"
     ]
    }
   ],
   "source": [
    "print(palavras_geradas)"
   ]
  },
  {
   "cell_type": "markdown",
   "id": "cacee57d-1024-4c66-81cf-172d086088de",
   "metadata": {},
   "source": [
    "## avaliando resultados: "
   ]
  },
  {
   "cell_type": "code",
   "execution_count": 439,
   "id": "75c735d0-3cb2-4165-b913-5246c2452c81",
   "metadata": {},
   "outputs": [
    {
     "name": "stdout",
     "output_type": "stream",
     "text": [
      "A taxa de acerto é de: 0.0% para 186 palavras\n"
     ]
    }
   ],
   "source": [
    "avaliador(lista_teste)"
   ]
  },
  {
   "cell_type": "markdown",
   "id": "418c16f9-3754-40c2-ab08-d7cce2414a7c",
   "metadata": {},
   "source": [
    "# Incrementando Corrretor Part II "
   ]
  },
  {
   "cell_type": "markdown",
   "id": "c695776b-eab1-4f66-979e-df9e659fa145",
   "metadata": {},
   "source": [
    "## Letras Trocadas "
   ]
  },
  {
   "cell_type": "markdown",
   "id": "bffce5b5-a59d-42df-b949-dc1c058cb241",
   "metadata": {},
   "source": [
    "#### criando a função troca letras:"
   ]
  },
  {
   "cell_type": "code",
   "execution_count": 440,
   "id": "0fdd4144-5a1e-4c4b-9fa3-7c8a9f2513f0",
   "metadata": {},
   "outputs": [],
   "source": [
    "def troca_letra(fatias):          #função recebe fatias de palavras como parâmetro\n",
    "    novas_palavras = []           # nova lista para armezenar os valores gerados \n",
    "    letras = 'abcdefghijklmnopqrstuvwxyzáàãâéèêíìóòõôúùûç'  #lista com todos possíveis caracteres\n",
    "    for E, D in fatias:           #verificação para cada fatia\n",
    "        for letra in letras:      #para cada fatia, verificação de todas os caracteres possíveis\n",
    "            novas_palavras.append(E + letra + D[1:]) #concatenação das fatias eliminando a primeira letra do lado direito\n",
    "    return novas_palavras         #nova lista retornada com valores modificados "
   ]
  },
  {
   "cell_type": "markdown",
   "id": "dc5570ff-38d7-4bc1-a6aa-49a816bb1fd6",
   "metadata": {},
   "source": [
    "#### Agora que a função está pronta, precisamos novamente incrementá-la na função gerador_palavras():"
   ]
  },
  {
   "cell_type": "code",
   "execution_count": 441,
   "id": "e6d91281-ed40-496d-97ae-e0bcca866bcf",
   "metadata": {},
   "outputs": [],
   "source": [
    "def gerador_palavras(palavra): #a função recebe uma palavra como parâmetro\n",
    "    fatias = [] #lista para receber as fatias criadas\n",
    "    for i in range(len(palavra)+1): #fatias variando por posição de acordo com o tamanho da palavra\n",
    "        fatias.append((palavra[:i], palavra[i:])) #fatias criadas sendo adicionadas a nova lista\n",
    "    palavras_geradas = insere_letras(fatias)\n",
    "    palavras_geradas += deletando_caracteres(fatias)\n",
    "    palavras_geradas += troca_letra(fatias)\n",
    "    return palavras_geradas"
   ]
  },
  {
   "cell_type": "code",
   "execution_count": 442,
   "id": "84c99365-ed75-4f5f-9574-900441b2a9c1",
   "metadata": {},
   "outputs": [],
   "source": [
    "palavra_exemplo = 'lígica'"
   ]
  },
  {
   "cell_type": "code",
   "execution_count": 443,
   "id": "0eb9e6fb-525a-4bc6-9827-0b7b6c669e25",
   "metadata": {},
   "outputs": [],
   "source": [
    "palavras_geradas = gerador_palavras(palavra_exemplo)"
   ]
  },
  {
   "cell_type": "code",
   "execution_count": 444,
   "id": "30c6f8da-17b7-4ac8-bde0-ec2b63a1c34b",
   "metadata": {},
   "outputs": [
    {
     "name": "stdout",
     "output_type": "stream",
     "text": [
      "['alígica', 'blígica', 'clígica', 'dlígica', 'elígica', 'flígica', 'glígica', 'hlígica', 'ilígica', 'jlígica', 'klígica', 'llígica', 'mlígica', 'nlígica', 'olígica', 'plígica', 'qlígica', 'rlígica', 'slígica', 'tlígica', 'ulígica', 'vlígica', 'wlígica', 'xlígica', 'ylígica', 'zlígica', 'àlígica', 'álígica', 'âlígica', 'ãlígica', 'èlígica', 'élígica', 'êlígica', 'ìlígica', 'ílígica', 'îlígica', 'òlígica', 'ólígica', 'ôlígica', 'õlígica', 'ùlígica', 'úlígica', 'ûlígica', 'çlígica', 'laígica', 'lbígica', 'lcígica', 'ldígica', 'leígica', 'lfígica', 'lgígica', 'lhígica', 'liígica', 'ljígica', 'lkígica', 'llígica', 'lmígica', 'lnígica', 'loígica', 'lpígica', 'lqígica', 'lrígica', 'lsígica', 'ltígica', 'luígica', 'lvígica', 'lwígica', 'lxígica', 'lyígica', 'lzígica', 'làígica', 'láígica', 'lâígica', 'lãígica', 'lèígica', 'léígica', 'lêígica', 'lìígica', 'líígica', 'lîígica', 'lòígica', 'lóígica', 'lôígica', 'lõígica', 'lùígica', 'lúígica', 'lûígica', 'lçígica', 'líagica', 'líbgica', 'lícgica', 'lídgica', 'líegica', 'lífgica', 'líggica', 'líhgica', 'líigica', 'líjgica', 'líkgica', 'lílgica', 'límgica', 'língica', 'líogica', 'lípgica', 'líqgica', 'lírgica', 'lísgica', 'lítgica', 'líugica', 'lívgica', 'líwgica', 'líxgica', 'líygica', 'lízgica', 'líàgica', 'líágica', 'líâgica', 'líãgica', 'líègica', 'líégica', 'líêgica', 'líìgica', 'líígica', 'líîgica', 'líògica', 'líógica', 'líôgica', 'líõgica', 'líùgica', 'líúgica', 'líûgica', 'líçgica', 'lígaica', 'lígbica', 'lígcica', 'lígdica', 'lígeica', 'lígfica', 'líggica', 'líghica', 'lígiica', 'lígjica', 'lígkica', 'líglica', 'lígmica', 'lígnica', 'lígoica', 'lígpica', 'lígqica', 'lígrica', 'lígsica', 'lígtica', 'líguica', 'lígvica', 'lígwica', 'lígxica', 'lígyica', 'lígzica', 'lígàica', 'lígáica', 'lígâica', 'lígãica', 'lígèica', 'lígéica', 'lígêica', 'lígìica', 'lígíica', 'lígîica', 'lígòica', 'lígóica', 'lígôica', 'lígõica', 'lígùica', 'lígúica', 'lígûica', 'lígçica', 'lígiaca', 'lígibca', 'lígicca', 'lígidca', 'lígieca', 'lígifca', 'lígigca', 'lígihca', 'lígiica', 'lígijca', 'lígikca', 'lígilca', 'lígimca', 'líginca', 'lígioca', 'lígipca', 'lígiqca', 'lígirca', 'lígisca', 'lígitca', 'lígiuca', 'lígivca', 'lígiwca', 'lígixca', 'lígiyca', 'lígizca', 'lígiàca', 'lígiáca', 'lígiâca', 'lígiãca', 'lígièca', 'lígiéca', 'lígiêca', 'lígiìca', 'lígiíca', 'lígiîca', 'lígiòca', 'lígióca', 'lígiôca', 'lígiõca', 'lígiùca', 'lígiúca', 'lígiûca', 'lígiçca', 'lígicaa', 'lígicba', 'lígicca', 'lígicda', 'lígicea', 'lígicfa', 'lígicga', 'lígicha', 'lígicia', 'lígicja', 'lígicka', 'lígicla', 'lígicma', 'lígicna', 'lígicoa', 'lígicpa', 'lígicqa', 'lígicra', 'lígicsa', 'lígicta', 'lígicua', 'lígicva', 'lígicwa', 'lígicxa', 'lígicya', 'lígicza', 'lígicàa', 'lígicáa', 'lígicâa', 'lígicãa', 'lígicèa', 'lígicéa', 'lígicêa', 'lígicìa', 'lígicía', 'lígicîa', 'lígicòa', 'lígicóa', 'lígicôa', 'lígicõa', 'lígicùa', 'lígicúa', 'lígicûa', 'lígicça', 'lígicaa', 'lígicab', 'lígicac', 'lígicad', 'lígicae', 'lígicaf', 'lígicag', 'lígicah', 'lígicai', 'lígicaj', 'lígicak', 'lígical', 'lígicam', 'lígican', 'lígicao', 'lígicap', 'lígicaq', 'lígicar', 'lígicas', 'lígicat', 'lígicau', 'lígicav', 'lígicaw', 'lígicax', 'lígicay', 'lígicaz', 'lígicaà', 'lígicaá', 'lígicaâ', 'lígicaã', 'lígicaè', 'lígicaé', 'lígicaê', 'lígicaì', 'lígicaí', 'lígicaî', 'lígicaò', 'lígicaó', 'lígicaô', 'lígicaõ', 'lígicaù', 'lígicaú', 'lígicaû', 'lígicaç', 'ígica', 'lgica', 'líica', 'lígca', 'lígia', 'lígic', 'lígica', 'aígica', 'bígica', 'cígica', 'dígica', 'eígica', 'fígica', 'gígica', 'hígica', 'iígica', 'jígica', 'kígica', 'lígica', 'mígica', 'nígica', 'oígica', 'pígica', 'qígica', 'rígica', 'sígica', 'tígica', 'uígica', 'vígica', 'wígica', 'xígica', 'yígica', 'zígica', 'áígica', 'àígica', 'ãígica', 'âígica', 'éígica', 'èígica', 'êígica', 'íígica', 'ìígica', 'óígica', 'òígica', 'õígica', 'ôígica', 'úígica', 'ùígica', 'ûígica', 'çígica', 'lagica', 'lbgica', 'lcgica', 'ldgica', 'legica', 'lfgica', 'lggica', 'lhgica', 'ligica', 'ljgica', 'lkgica', 'llgica', 'lmgica', 'lngica', 'logica', 'lpgica', 'lqgica', 'lrgica', 'lsgica', 'ltgica', 'lugica', 'lvgica', 'lwgica', 'lxgica', 'lygica', 'lzgica', 'lágica', 'làgica', 'lãgica', 'lâgica', 'légica', 'lègica', 'lêgica', 'lígica', 'lìgica', 'lógica', 'lògica', 'lõgica', 'lôgica', 'lúgica', 'lùgica', 'lûgica', 'lçgica', 'líaica', 'líbica', 'lícica', 'lídica', 'líeica', 'lífica', 'lígica', 'líhica', 'líiica', 'líjica', 'líkica', 'lílica', 'límica', 'línica', 'líoica', 'lípica', 'líqica', 'lírica', 'lísica', 'lítica', 'líuica', 'lívica', 'líwica', 'líxica', 'líyica', 'lízica', 'líáica', 'líàica', 'líãica', 'líâica', 'líéica', 'líèica', 'líêica', 'lííica', 'líìica', 'líóica', 'líòica', 'líõica', 'líôica', 'líúica', 'líùica', 'líûica', 'líçica', 'lígaca', 'lígbca', 'lígcca', 'lígdca', 'lígeca', 'lígfca', 'líggca', 'líghca', 'lígica', 'lígjca', 'lígkca', 'líglca', 'lígmca', 'lígnca', 'lígoca', 'lígpca', 'lígqca', 'lígrca', 'lígsca', 'lígtca', 'líguca', 'lígvca', 'lígwca', 'lígxca', 'lígyca', 'lígzca', 'lígáca', 'lígàca', 'lígãca', 'lígâca', 'lígéca', 'lígèca', 'lígêca', 'lígíca', 'lígìca', 'lígóca', 'lígòca', 'lígõca', 'lígôca', 'lígúca', 'lígùca', 'lígûca', 'lígçca', 'lígiaa', 'lígiba', 'lígica', 'lígida', 'lígiea', 'lígifa', 'lígiga', 'lígiha', 'lígiia', 'lígija', 'lígika', 'lígila', 'lígima', 'lígina', 'lígioa', 'lígipa', 'lígiqa', 'lígira', 'lígisa', 'lígita', 'lígiua', 'lígiva', 'lígiwa', 'lígixa', 'lígiya', 'lígiza', 'lígiáa', 'lígiàa', 'lígiãa', 'lígiâa', 'lígiéa', 'lígièa', 'lígiêa', 'lígiía', 'lígiìa', 'lígióa', 'lígiòa', 'lígiõa', 'lígiôa', 'lígiúa', 'lígiùa', 'lígiûa', 'lígiça', 'lígica', 'lígicb', 'lígicc', 'lígicd', 'lígice', 'lígicf', 'lígicg', 'lígich', 'lígici', 'lígicj', 'lígick', 'lígicl', 'lígicm', 'lígicn', 'lígico', 'lígicp', 'lígicq', 'lígicr', 'lígics', 'lígict', 'lígicu', 'lígicv', 'lígicw', 'lígicx', 'lígicy', 'lígicz', 'lígicá', 'lígicà', 'lígicã', 'lígicâ', 'lígicé', 'lígicè', 'lígicê', 'lígicí', 'lígicì', 'lígicó', 'lígicò', 'lígicõ', 'lígicô', 'lígicú', 'lígicù', 'lígicû', 'lígicç', 'lígicaa', 'lígicab', 'lígicac', 'lígicad', 'lígicae', 'lígicaf', 'lígicag', 'lígicah', 'lígicai', 'lígicaj', 'lígicak', 'lígical', 'lígicam', 'lígican', 'lígicao', 'lígicap', 'lígicaq', 'lígicar', 'lígicas', 'lígicat', 'lígicau', 'lígicav', 'lígicaw', 'lígicax', 'lígicay', 'lígicaz', 'lígicaá', 'lígicaà', 'lígicaã', 'lígicaâ', 'lígicaé', 'lígicaè', 'lígicaê', 'lígicaí', 'lígicaì', 'lígicaó', 'lígicaò', 'lígicaõ', 'lígicaô', 'lígicaú', 'lígicaù', 'lígicaû', 'lígicaç']\n"
     ]
    }
   ],
   "source": [
    "print(palavras_geradas)"
   ]
  },
  {
   "cell_type": "markdown",
   "id": "efeef279-e83e-4a8b-acc5-ecb91fac3042",
   "metadata": {},
   "source": [
    "### Avaliando resultados: "
   ]
  },
  {
   "cell_type": "code",
   "execution_count": 445,
   "id": "5fb6624f-a824-417a-8ad3-80aa039da73a",
   "metadata": {},
   "outputs": [
    {
     "name": "stdout",
     "output_type": "stream",
     "text": [
      "A taxa de acerto é de: 0.0% para 186 palavras\n"
     ]
    }
   ],
   "source": [
    "avaliador(lista_teste)"
   ]
  },
  {
   "cell_type": "markdown",
   "id": "960bbdb5-8a28-4e5f-8277-4565fee120bf",
   "metadata": {},
   "source": [
    "# Incrementando Corretor Parte III"
   ]
  },
  {
   "cell_type": "markdown",
   "id": "a3a7041f-f38b-4dc1-9ec2-2a44172881f9",
   "metadata": {},
   "source": [
    "## Invertendo letras "
   ]
  },
  {
   "cell_type": "markdown",
   "id": "882307f9-092d-4d93-90bf-c089c709ed3e",
   "metadata": {},
   "source": [
    "### criando a função invertendo letras: "
   ]
  },
  {
   "cell_type": "code",
   "execution_count": 446,
   "id": "564a791b-6634-41b9-820d-43e555b14c51",
   "metadata": {},
   "outputs": [],
   "source": [
    "def inverte_letra(fatias):                                # função recebe fatias de palavras como parâmetros\n",
    "    novas_palavras = []                                   # lista vazia para armazenar valores encontrados\n",
    "    for E, D in fatias:                                   # uma verificação para cada fatia\n",
    "        if len(D) > 1:                                    # se o lado direito for menor que 1 não há porquê realizar operação\n",
    "            novas_palavras.append(E + D[1] + D[0] + D[2:]) #inversão das letras e concatenação das fatias\n",
    "    return novas_palavras                                 # retorno da lista com resultados salvos"
   ]
  },
  {
   "cell_type": "markdown",
   "id": "d8fbb311-9683-4ee2-bc28-65ce0a8e4c33",
   "metadata": {},
   "source": [
    "#### Agora que a função está pronta, precisamos novamente incrementá-la na função gerador_palavras():"
   ]
  },
  {
   "cell_type": "code",
   "execution_count": 447,
   "id": "74593177-575c-48f5-af1d-caf3a93d77be",
   "metadata": {},
   "outputs": [],
   "source": [
    "def gerador_palavras(palavra): #a função recebe uma palavra como parâmetro\n",
    "    fatias = [] #lista para receber as fatias criadas\n",
    "    for i in range(len(palavra)+1): #fatias variando por posição de acordo com o tamanho da palavra\n",
    "        fatias.append((palavra[:i], palavra[i:])) #fatias criadas sendo adicionadas a nova lista\n",
    "    palavras_geradas = insere_letras(fatias)\n",
    "    palavras_geradas += deletando_caracteres(fatias)\n",
    "    palavras_geradas += troca_letra(fatias)\n",
    "    palavras_geradas += inverte_letra(fatias)\n",
    "    return palavras_geradas"
   ]
  },
  {
   "cell_type": "code",
   "execution_count": 448,
   "id": "e6ea4683-17b4-4190-8ee4-e9ea9e8a6d96",
   "metadata": {},
   "outputs": [],
   "source": [
    "palavra_exemplo = 'ólgica'"
   ]
  },
  {
   "cell_type": "code",
   "execution_count": 449,
   "id": "777f9e57-d6f5-4d60-9d34-ea8fbf80be90",
   "metadata": {},
   "outputs": [],
   "source": [
    "palavras_geradas = gerador_palavras(palavra_exemplo)"
   ]
  },
  {
   "cell_type": "code",
   "execution_count": 450,
   "id": "fc4d94f7-9acc-488a-9e91-e3c6a1f08f54",
   "metadata": {},
   "outputs": [
    {
     "name": "stdout",
     "output_type": "stream",
     "text": [
      "['aólgica', 'bólgica', 'cólgica', 'dólgica', 'eólgica', 'fólgica', 'gólgica', 'hólgica', 'iólgica', 'jólgica', 'kólgica', 'lólgica', 'mólgica', 'nólgica', 'oólgica', 'pólgica', 'qólgica', 'rólgica', 'sólgica', 'tólgica', 'uólgica', 'vólgica', 'wólgica', 'xólgica', 'yólgica', 'zólgica', 'àólgica', 'áólgica', 'âólgica', 'ãólgica', 'èólgica', 'éólgica', 'êólgica', 'ìólgica', 'íólgica', 'îólgica', 'òólgica', 'óólgica', 'ôólgica', 'õólgica', 'ùólgica', 'úólgica', 'ûólgica', 'çólgica', 'óalgica', 'óblgica', 'óclgica', 'ódlgica', 'óelgica', 'óflgica', 'óglgica', 'óhlgica', 'óilgica', 'ójlgica', 'óklgica', 'óllgica', 'ómlgica', 'ónlgica', 'óolgica', 'óplgica', 'óqlgica', 'órlgica', 'óslgica', 'ótlgica', 'óulgica', 'óvlgica', 'ówlgica', 'óxlgica', 'óylgica', 'ózlgica', 'óàlgica', 'óálgica', 'óâlgica', 'óãlgica', 'óèlgica', 'óélgica', 'óêlgica', 'óìlgica', 'óílgica', 'óîlgica', 'óòlgica', 'óólgica', 'óôlgica', 'óõlgica', 'óùlgica', 'óúlgica', 'óûlgica', 'óçlgica', 'ólagica', 'ólbgica', 'ólcgica', 'óldgica', 'ólegica', 'ólfgica', 'ólggica', 'ólhgica', 'óligica', 'óljgica', 'ólkgica', 'óllgica', 'ólmgica', 'ólngica', 'ólogica', 'ólpgica', 'ólqgica', 'ólrgica', 'ólsgica', 'óltgica', 'ólugica', 'ólvgica', 'ólwgica', 'ólxgica', 'ólygica', 'ólzgica', 'ólàgica', 'ólágica', 'ólâgica', 'ólãgica', 'ólègica', 'ólégica', 'ólêgica', 'ólìgica', 'ólígica', 'ólîgica', 'ólògica', 'ólógica', 'ólôgica', 'ólõgica', 'ólùgica', 'ólúgica', 'ólûgica', 'ólçgica', 'ólgaica', 'ólgbica', 'ólgcica', 'ólgdica', 'ólgeica', 'ólgfica', 'ólggica', 'ólghica', 'ólgiica', 'ólgjica', 'ólgkica', 'ólglica', 'ólgmica', 'ólgnica', 'ólgoica', 'ólgpica', 'ólgqica', 'ólgrica', 'ólgsica', 'ólgtica', 'ólguica', 'ólgvica', 'ólgwica', 'ólgxica', 'ólgyica', 'ólgzica', 'ólgàica', 'ólgáica', 'ólgâica', 'ólgãica', 'ólgèica', 'ólgéica', 'ólgêica', 'ólgìica', 'ólgíica', 'ólgîica', 'ólgòica', 'ólgóica', 'ólgôica', 'ólgõica', 'ólgùica', 'ólgúica', 'ólgûica', 'ólgçica', 'ólgiaca', 'ólgibca', 'ólgicca', 'ólgidca', 'ólgieca', 'ólgifca', 'ólgigca', 'ólgihca', 'ólgiica', 'ólgijca', 'ólgikca', 'ólgilca', 'ólgimca', 'ólginca', 'ólgioca', 'ólgipca', 'ólgiqca', 'ólgirca', 'ólgisca', 'ólgitca', 'ólgiuca', 'ólgivca', 'ólgiwca', 'ólgixca', 'ólgiyca', 'ólgizca', 'ólgiàca', 'ólgiáca', 'ólgiâca', 'ólgiãca', 'ólgièca', 'ólgiéca', 'ólgiêca', 'ólgiìca', 'ólgiíca', 'ólgiîca', 'ólgiòca', 'ólgióca', 'ólgiôca', 'ólgiõca', 'ólgiùca', 'ólgiúca', 'ólgiûca', 'ólgiçca', 'ólgicaa', 'ólgicba', 'ólgicca', 'ólgicda', 'ólgicea', 'ólgicfa', 'ólgicga', 'ólgicha', 'ólgicia', 'ólgicja', 'ólgicka', 'ólgicla', 'ólgicma', 'ólgicna', 'ólgicoa', 'ólgicpa', 'ólgicqa', 'ólgicra', 'ólgicsa', 'ólgicta', 'ólgicua', 'ólgicva', 'ólgicwa', 'ólgicxa', 'ólgicya', 'ólgicza', 'ólgicàa', 'ólgicáa', 'ólgicâa', 'ólgicãa', 'ólgicèa', 'ólgicéa', 'ólgicêa', 'ólgicìa', 'ólgicía', 'ólgicîa', 'ólgicòa', 'ólgicóa', 'ólgicôa', 'ólgicõa', 'ólgicùa', 'ólgicúa', 'ólgicûa', 'ólgicça', 'ólgicaa', 'ólgicab', 'ólgicac', 'ólgicad', 'ólgicae', 'ólgicaf', 'ólgicag', 'ólgicah', 'ólgicai', 'ólgicaj', 'ólgicak', 'ólgical', 'ólgicam', 'ólgican', 'ólgicao', 'ólgicap', 'ólgicaq', 'ólgicar', 'ólgicas', 'ólgicat', 'ólgicau', 'ólgicav', 'ólgicaw', 'ólgicax', 'ólgicay', 'ólgicaz', 'ólgicaà', 'ólgicaá', 'ólgicaâ', 'ólgicaã', 'ólgicaè', 'ólgicaé', 'ólgicaê', 'ólgicaì', 'ólgicaí', 'ólgicaî', 'ólgicaò', 'ólgicaó', 'ólgicaô', 'ólgicaõ', 'ólgicaù', 'ólgicaú', 'ólgicaû', 'ólgicaç', 'lgica', 'ógica', 'ólica', 'ólgca', 'ólgia', 'ólgic', 'ólgica', 'algica', 'blgica', 'clgica', 'dlgica', 'elgica', 'flgica', 'glgica', 'hlgica', 'ilgica', 'jlgica', 'klgica', 'llgica', 'mlgica', 'nlgica', 'olgica', 'plgica', 'qlgica', 'rlgica', 'slgica', 'tlgica', 'ulgica', 'vlgica', 'wlgica', 'xlgica', 'ylgica', 'zlgica', 'álgica', 'àlgica', 'ãlgica', 'âlgica', 'élgica', 'èlgica', 'êlgica', 'ílgica', 'ìlgica', 'ólgica', 'òlgica', 'õlgica', 'ôlgica', 'úlgica', 'ùlgica', 'ûlgica', 'çlgica', 'óagica', 'óbgica', 'ócgica', 'ódgica', 'óegica', 'ófgica', 'óggica', 'óhgica', 'óigica', 'ójgica', 'ókgica', 'ólgica', 'ómgica', 'óngica', 'óogica', 'ópgica', 'óqgica', 'órgica', 'ósgica', 'ótgica', 'óugica', 'óvgica', 'ówgica', 'óxgica', 'óygica', 'ózgica', 'óágica', 'óàgica', 'óãgica', 'óâgica', 'óégica', 'óègica', 'óêgica', 'óígica', 'óìgica', 'óógica', 'óògica', 'óõgica', 'óôgica', 'óúgica', 'óùgica', 'óûgica', 'óçgica', 'ólaica', 'ólbica', 'ólcica', 'óldica', 'óleica', 'ólfica', 'ólgica', 'ólhica', 'óliica', 'óljica', 'ólkica', 'óllica', 'ólmica', 'ólnica', 'óloica', 'ólpica', 'ólqica', 'ólrica', 'ólsica', 'óltica', 'óluica', 'ólvica', 'ólwica', 'ólxica', 'ólyica', 'ólzica', 'óláica', 'ólàica', 'ólãica', 'ólâica', 'óléica', 'ólèica', 'ólêica', 'ólíica', 'ólìica', 'ólóica', 'ólòica', 'ólõica', 'ólôica', 'ólúica', 'ólùica', 'ólûica', 'ólçica', 'ólgaca', 'ólgbca', 'ólgcca', 'ólgdca', 'ólgeca', 'ólgfca', 'ólggca', 'ólghca', 'ólgica', 'ólgjca', 'ólgkca', 'ólglca', 'ólgmca', 'ólgnca', 'ólgoca', 'ólgpca', 'ólgqca', 'ólgrca', 'ólgsca', 'ólgtca', 'ólguca', 'ólgvca', 'ólgwca', 'ólgxca', 'ólgyca', 'ólgzca', 'ólgáca', 'ólgàca', 'ólgãca', 'ólgâca', 'ólgéca', 'ólgèca', 'ólgêca', 'ólgíca', 'ólgìca', 'ólgóca', 'ólgòca', 'ólgõca', 'ólgôca', 'ólgúca', 'ólgùca', 'ólgûca', 'ólgçca', 'ólgiaa', 'ólgiba', 'ólgica', 'ólgida', 'ólgiea', 'ólgifa', 'ólgiga', 'ólgiha', 'ólgiia', 'ólgija', 'ólgika', 'ólgila', 'ólgima', 'ólgina', 'ólgioa', 'ólgipa', 'ólgiqa', 'ólgira', 'ólgisa', 'ólgita', 'ólgiua', 'ólgiva', 'ólgiwa', 'ólgixa', 'ólgiya', 'ólgiza', 'ólgiáa', 'ólgiàa', 'ólgiãa', 'ólgiâa', 'ólgiéa', 'ólgièa', 'ólgiêa', 'ólgiía', 'ólgiìa', 'ólgióa', 'ólgiòa', 'ólgiõa', 'ólgiôa', 'ólgiúa', 'ólgiùa', 'ólgiûa', 'ólgiça', 'ólgica', 'ólgicb', 'ólgicc', 'ólgicd', 'ólgice', 'ólgicf', 'ólgicg', 'ólgich', 'ólgici', 'ólgicj', 'ólgick', 'ólgicl', 'ólgicm', 'ólgicn', 'ólgico', 'ólgicp', 'ólgicq', 'ólgicr', 'ólgics', 'ólgict', 'ólgicu', 'ólgicv', 'ólgicw', 'ólgicx', 'ólgicy', 'ólgicz', 'ólgicá', 'ólgicà', 'ólgicã', 'ólgicâ', 'ólgicé', 'ólgicè', 'ólgicê', 'ólgicí', 'ólgicì', 'ólgicó', 'ólgicò', 'ólgicõ', 'ólgicô', 'ólgicú', 'ólgicù', 'ólgicû', 'ólgicç', 'ólgicaa', 'ólgicab', 'ólgicac', 'ólgicad', 'ólgicae', 'ólgicaf', 'ólgicag', 'ólgicah', 'ólgicai', 'ólgicaj', 'ólgicak', 'ólgical', 'ólgicam', 'ólgican', 'ólgicao', 'ólgicap', 'ólgicaq', 'ólgicar', 'ólgicas', 'ólgicat', 'ólgicau', 'ólgicav', 'ólgicaw', 'ólgicax', 'ólgicay', 'ólgicaz', 'ólgicaá', 'ólgicaà', 'ólgicaã', 'ólgicaâ', 'ólgicaé', 'ólgicaè', 'ólgicaê', 'ólgicaí', 'ólgicaì', 'ólgicaó', 'ólgicaò', 'ólgicaõ', 'ólgicaô', 'ólgicaú', 'ólgicaù', 'ólgicaû', 'ólgicaç', 'lógica', 'óglica', 'óligca', 'ólgcia', 'ólgiac']\n"
     ]
    }
   ],
   "source": [
    "print(palavras_geradas)"
   ]
  },
  {
   "cell_type": "markdown",
   "id": "a31ee6ac-9786-42a4-bc9b-46c794ec3f7b",
   "metadata": {},
   "source": [
    "### Avaliando resultados: "
   ]
  },
  {
   "cell_type": "code",
   "execution_count": 451,
   "id": "9ab8de97-8537-40c7-8c94-d8a750df06e9",
   "metadata": {},
   "outputs": [
    {
     "name": "stdout",
     "output_type": "stream",
     "text": [
      "A taxa de acerto é de: 0.0% para 186 palavras\n"
     ]
    }
   ],
   "source": [
    "avaliador(lista_teste)"
   ]
  },
  {
   "cell_type": "code",
   "execution_count": 452,
   "id": "70908557-0a63-4af0-9a35-f180f4f0d225",
   "metadata": {},
   "outputs": [],
   "source": [
    "palavra = ''"
   ]
  },
  {
   "cell_type": "code",
   "execution_count": 453,
   "id": "c03fb1bc-9c1b-424c-afc9-73c5912137ec",
   "metadata": {},
   "outputs": [
    {
     "data": {
      "text/plain": [
       "'Você quis dizer, a?'"
      ]
     },
     "execution_count": 453,
     "metadata": {},
     "output_type": "execute_result"
    }
   ],
   "source": [
    "corretor(palavra)"
   ]
  },
  {
   "cell_type": "markdown",
   "id": "813d6ea4-f374-48c2-bf5f-1544ecfd3131",
   "metadata": {},
   "source": [
    "# Palavra desconhecida vocabulário "
   ]
  },
  {
   "cell_type": "markdown",
   "id": "ba4c557e-edbc-4927-8766-59aea2502ce2",
   "metadata": {},
   "source": [
    "#### Vamos incrementar o código avaliador para captar palavras desconhecidas"
   ]
  },
  {
   "cell_type": "code",
   "execution_count": 464,
   "id": "31ecee5a-60a4-4ec5-ae4b-64d94b73d8f9",
   "metadata": {},
   "outputs": [],
   "source": [
    "def avaliador(testes, vocabulario):    # método recebe uma lista como parâmetro\n",
    "    numero_palavras = len(testes)   #numero total de palavras calculado pela funcão len()\n",
    "    certo = 0 # contador de palavras corretas\n",
    "    desconhecida = 0\n",
    "    for correta, errada in testes:   # para a lista de palavras corretas e incorretas informadas\n",
    "        palavra_corrigida = corretor(errada) # a palavra errada passa pela função corretor que retorna a palavra corrigida\n",
    "        if palavra_corrigida == correta: #se a palavra corrigida for igual a palavra correta\n",
    "            certo += 1\n",
    "        else:\n",
    "            desconhecida += (correta not in vocabulario) # a variável desconhecida é incrementada quando palavra correta não está no vocabulário\n",
    "    taxa_acerto = round(certo * 100 / numero_palavras,2)\n",
    "    taxa_desconhecida = round(desconhecida * 100 / numero_palavras, 2)\n",
    "    # taxa de acerto calcula pelo numero de palavras corretas dividido pelo numero total\n",
    "    print(f'A taxa de acerto é de: {taxa_acerto}% para {numero_palavras} palavras')\n",
    "    print(f'A taxa de palavras desconhecidas é de: {taxa_desconhecida}% para {numero_palavras} palavras')\n",
    "    \n",
    "vocabulario = set(lista_normalizada)"
   ]
  },
  {
   "cell_type": "code",
   "execution_count": 465,
   "id": "e5292e9b-64df-4fb1-a3d3-1d142c8d5f7e",
   "metadata": {},
   "outputs": [
    {
     "name": "stdout",
     "output_type": "stream",
     "text": [
      "A taxa de acerto é de: 0.0% para 186 palavras\n",
      "A taxa de palavras desconhecidas é de: 6.99% para 186 palavras\n"
     ]
    }
   ],
   "source": [
    "avaliador(lista_teste, vocabulario)"
   ]
  },
  {
   "cell_type": "markdown",
   "id": "bb777901-8d71-46c9-82d0-e3546e0dd5b8",
   "metadata": {},
   "source": [
    "## Corrindo palavras com mais de uma letra em excesso"
   ]
  },
  {
   "cell_type": "markdown",
   "id": "9ece767b-a294-40a3-ba39-2d03d4bc5963",
   "metadata": {},
   "source": [
    "#### para isso vamos 'turbinar' o atual gerador de palavras: "
   ]
  },
  {
   "cell_type": "code",
   "execution_count": 466,
   "id": "e39341c2-dbb2-4542-85ed-44f0a4b3a13d",
   "metadata": {},
   "outputs": [],
   "source": [
    "palavra = 'lóiigica'"
   ]
  },
  {
   "cell_type": "code",
   "execution_count": 467,
   "id": "940543dc-8cce-4cd6-954f-2db8c8f7ae46",
   "metadata": {},
   "outputs": [],
   "source": [
    "def gerador_turbinado(palavras_geradas):       #a nova função recebe os resultados da função geradora anterior\n",
    "    novas_palavras = []                        # uma nova lista para armezenar os valores gerados\n",
    "    for palavra in palavras_geradas:           # para cada palavra dentro da função geradora anterior, uma verificação\n",
    "        novas_palavras += gerador_palavras(palavra)     # novas palavras adicionadas depois de novamente passarem por geração\n",
    "    return novas_palavras                      # nova lista gerada"
   ]
  },
  {
   "cell_type": "code",
   "execution_count": null,
   "id": "6b318b20-458c-42d3-80df-b4e5d641505e",
   "metadata": {},
   "outputs": [],
   "source": [
    "##### Teste: gerador_turbinado recebede gerador de palavras como parâmetro e analisa a palavra 'lóiigica'"
   ]
  },
  {
   "cell_type": "code",
   "execution_count": 468,
   "id": "ee1be448-e36a-4e8c-97a9-45aedacc3d63",
   "metadata": {},
   "outputs": [],
   "source": [
    "palavras_g = gerador_turbinado(gerador_palavras(palavra)) "
   ]
  },
  {
   "cell_type": "code",
   "execution_count": 469,
   "id": "15f7fb35-985c-45b5-8e44-03f90fd08970",
   "metadata": {},
   "outputs": [],
   "source": [
    "# para saber se funcinou buscamos a palavra correta, 'lógica' dentro da nova lista"
   ]
  },
  {
   "cell_type": "code",
   "execution_count": 470,
   "id": "34a9b9c3-7c18-4132-8b66-01bd6f7242c5",
   "metadata": {},
   "outputs": [
    {
     "data": {
      "text/plain": [
       "True"
      ]
     },
     "execution_count": 470,
     "metadata": {},
     "output_type": "execute_result"
    }
   ],
   "source": [
    "'lógica'in palavras_g"
   ]
  },
  {
   "cell_type": "code",
   "execution_count": 471,
   "id": "2ab7c905-0a6a-4860-bc8d-d6ed7abdd524",
   "metadata": {},
   "outputs": [],
   "source": [
    "# verificando tamanho da nova lista:"
   ]
  },
  {
   "cell_type": "code",
   "execution_count": 472,
   "id": "678da65f-22a0-48fc-bcb0-e4fae75c6f86",
   "metadata": {},
   "outputs": [
    {
     "data": {
      "text/plain": [
       "676760"
      ]
     },
     "execution_count": 472,
     "metadata": {},
     "output_type": "execute_result"
    }
   ],
   "source": [
    "len(palavras_g)"
   ]
  },
  {
   "cell_type": "code",
   "execution_count": 473,
   "id": "59b0ad94-b955-4bf0-9e79-ef88426958a2",
   "metadata": {},
   "outputs": [],
   "source": [
    "# o número de palavras geradas é muito alto, para evitar excesso de verificações desnecessárias, precisamos descartar as palavras\n",
    "# que não existem"
   ]
  },
  {
   "cell_type": "markdown",
   "id": "b2665cfb-efcb-4a34-99f8-a8443efa2f01",
   "metadata": {},
   "source": [
    "## Escolhendo os melhores candidatos"
   ]
  },
  {
   "cell_type": "markdown",
   "id": "cee81afa-515a-41a6-932e-127ad57a6468",
   "metadata": {},
   "source": [
    "#### vamos incrementar o corretor de palavras que calcula a probabilidade da palavra correta"
   ]
  },
  {
   "cell_type": "code",
   "execution_count": 479,
   "id": "fa4c36c8-2100-4ee8-a93e-bf00352c498a",
   "metadata": {},
   "outputs": [],
   "source": [
    "def novo_corretor(palavra):   \n",
    "    palavras_geradas = gerador_palavras(palavra)\n",
    "    palavras_turbinado = gerador_turbinado(palavras_geradas)\n",
    "    todas_palavras = set(palavras_geradas + palavras_turbinado) #criando conjunto de palavras combinadas das duas listas\n",
    "    candidatos = [palavra] \n",
    "    for palavra in todas_palavras:\n",
    "        if palavra in vocabulario:\n",
    "            candidatos.append(palavra)  #a palavra só será considerada candidata se estiver no vocabulario\n",
    "    palavra_correta = max(candidatos, key = probabilidade)\n",
    "    return palavra_correta"
   ]
  },
  {
   "cell_type": "markdown",
   "id": "69d84fb8-fa9d-4ace-8f10-f045ad16dbaa",
   "metadata": {},
   "source": [
    "#### testando resultado nova função: "
   ]
  },
  {
   "cell_type": "code",
   "execution_count": 487,
   "id": "8719dcc8-d7a9-4beb-bbf1-a4b35c5a1869",
   "metadata": {},
   "outputs": [],
   "source": [
    "palavra = 'lóiigica'"
   ]
  },
  {
   "cell_type": "code",
   "execution_count": 486,
   "id": "1f57c687-1874-4728-9954-3878690d5735",
   "metadata": {},
   "outputs": [
    {
     "name": "stdout",
     "output_type": "stream",
     "text": [
      "2\n"
     ]
    },
    {
     "data": {
      "text/plain": [
       "'lógica'"
      ]
     },
     "execution_count": 486,
     "metadata": {},
     "output_type": "execute_result"
    }
   ],
   "source": [
    "novo_corretor(palavra) "
   ]
  },
  {
   "cell_type": "markdown",
   "id": "604e21ad-7b13-48f4-a22f-cd200a5fcc31",
   "metadata": {},
   "source": [
    "#### Conclusão: a análise diminuiu de mais de 600mil possibilidades para apenas 2 para encontrar a palavra verdadeira"
   ]
  },
  {
   "cell_type": "markdown",
   "id": "1ab91f0e-189f-4726-a7fb-c8ba6a9ee8c0",
   "metadata": {},
   "source": []
  },
  {
   "cell_type": "code",
   "execution_count": 493,
   "id": "e7fb014a-42f1-4aaa-a1f9-8c848fda30a5",
   "metadata": {},
   "outputs": [],
   "source": []
  },
  {
   "cell_type": "code",
   "execution_count": null,
   "id": "4043ce27-ee3a-46e6-8e13-5e64f37f50cd",
   "metadata": {},
   "outputs": [],
   "source": []
  },
  {
   "cell_type": "code",
   "execution_count": null,
   "id": "0011e1bd-8803-43e1-8131-ba6a5fc3487c",
   "metadata": {},
   "outputs": [],
   "source": []
  }
 ],
 "metadata": {
  "kernelspec": {
   "display_name": "Python 3 (ipykernel)",
   "language": "python",
   "name": "python3"
  },
  "language_info": {
   "codemirror_mode": {
    "name": "ipython",
    "version": 3
   },
   "file_extension": ".py",
   "mimetype": "text/x-python",
   "name": "python",
   "nbconvert_exporter": "python",
   "pygments_lexer": "ipython3",
   "version": "3.9.12"
  }
 },
 "nbformat": 4,
 "nbformat_minor": 5
}
